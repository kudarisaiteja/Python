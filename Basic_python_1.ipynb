{
 "cells": [
  {
   "cell_type": "code",
   "execution_count": 1,
   "id": "2740d892",
   "metadata": {},
   "outputs": [
    {
     "name": "stdout",
     "output_type": "stream",
     "text": [
      "hello world\n"
     ]
    }
   ],
   "source": [
    "print(\"hello world\")"
   ]
  },
  {
   "cell_type": "code",
   "execution_count": 3,
   "id": "09611c41",
   "metadata": {},
   "outputs": [
    {
     "data": {
      "text/plain": [
       "str"
      ]
     },
     "execution_count": 3,
     "metadata": {},
     "output_type": "execute_result"
    }
   ],
   "source": [
    "type(\"hello world\")"
   ]
  },
  {
   "cell_type": "code",
   "execution_count": 4,
   "id": "01f9d19f",
   "metadata": {},
   "outputs": [],
   "source": [
    " a = 5"
   ]
  },
  {
   "cell_type": "code",
   "execution_count": 5,
   "id": "931d16c2",
   "metadata": {},
   "outputs": [
    {
     "data": {
      "text/plain": [
       "5"
      ]
     },
     "execution_count": 5,
     "metadata": {},
     "output_type": "execute_result"
    }
   ],
   "source": [
    "a"
   ]
  },
  {
   "cell_type": "code",
   "execution_count": 6,
   "id": "ee55ea46",
   "metadata": {},
   "outputs": [
    {
     "data": {
      "text/plain": [
       "int"
      ]
     },
     "execution_count": 6,
     "metadata": {},
     "output_type": "execute_result"
    }
   ],
   "source": [
    "type(a)"
   ]
  },
  {
   "cell_type": "code",
   "execution_count": 7,
   "id": "00c094f0",
   "metadata": {},
   "outputs": [
    {
     "data": {
      "text/plain": [
       "range(0, 10)"
      ]
     },
     "execution_count": 7,
     "metadata": {},
     "output_type": "execute_result"
    }
   ],
   "source": [
    "range(10)"
   ]
  },
  {
   "cell_type": "code",
   "execution_count": 8,
   "id": "bbb90b8c",
   "metadata": {},
   "outputs": [
    {
     "data": {
      "text/plain": [
       "10"
      ]
     },
     "execution_count": 8,
     "metadata": {},
     "output_type": "execute_result"
    }
   ],
   "source": [
    "len(range(10))"
   ]
  },
  {
   "cell_type": "code",
   "execution_count": 9,
   "id": "6da1c21f",
   "metadata": {},
   "outputs": [
    {
     "data": {
      "text/plain": [
       "[0, 1, 2, 3, 4, 5, 6, 7, 8, 9]"
      ]
     },
     "execution_count": 9,
     "metadata": {},
     "output_type": "execute_result"
    }
   ],
   "source": [
    "list(range(10))"
   ]
  },
  {
   "cell_type": "code",
   "execution_count": 10,
   "id": "1130bcdb",
   "metadata": {},
   "outputs": [
    {
     "data": {
      "text/plain": [
       "[3, 4, 5, 6, 7, 8, 9]"
      ]
     },
     "execution_count": 10,
     "metadata": {},
     "output_type": "execute_result"
    }
   ],
   "source": [
    "list(range(3,10))"
   ]
  },
  {
   "cell_type": "code",
   "execution_count": 11,
   "id": "6f5e252e",
   "metadata": {},
   "outputs": [
    {
     "data": {
      "text/plain": [
       "[3, 5, 7, 9]"
      ]
     },
     "execution_count": 11,
     "metadata": {},
     "output_type": "execute_result"
    }
   ],
   "source": [
    "list(range(3,10,2))"
   ]
  },
  {
   "cell_type": "code",
   "execution_count": 15,
   "id": "fc1befb1",
   "metadata": {},
   "outputs": [
    {
     "data": {
      "text/plain": [
       "[-10, -8, -6, -4]"
      ]
     },
     "execution_count": 15,
     "metadata": {},
     "output_type": "execute_result"
    }
   ],
   "source": [
    "list(range(-10,-3,2))"
   ]
  },
  {
   "cell_type": "code",
   "execution_count": 16,
   "id": "162bcefb",
   "metadata": {},
   "outputs": [
    {
     "data": {
      "text/plain": [
       "[10, 9, 8, 7, 6, 5, 4]"
      ]
     },
     "execution_count": 16,
     "metadata": {},
     "output_type": "execute_result"
    }
   ],
   "source": [
    "list(range(10,3,-1))"
   ]
  },
  {
   "cell_type": "code",
   "execution_count": 17,
   "id": "d5fc37b1",
   "metadata": {},
   "outputs": [
    {
     "data": {
      "text/plain": [
       "'saiteja'"
      ]
     },
     "execution_count": 17,
     "metadata": {},
     "output_type": "execute_result"
    }
   ],
   "source": [
    "\"sai\" + \"teja\""
   ]
  },
  {
   "cell_type": "code",
   "execution_count": 19,
   "id": "9dda30f8",
   "metadata": {},
   "outputs": [
    {
     "name": "stdout",
     "output_type": "stream",
     "text": [
      "enter a name Jinsa\n"
     ]
    }
   ],
   "source": [
    "a = input(\"enter a name \")"
   ]
  },
  {
   "cell_type": "code",
   "execution_count": 20,
   "id": "56365ced",
   "metadata": {},
   "outputs": [
    {
     "data": {
      "text/plain": [
       "str"
      ]
     },
     "execution_count": 20,
     "metadata": {},
     "output_type": "execute_result"
    }
   ],
   "source": [
    "type(a)"
   ]
  },
  {
   "cell_type": "markdown",
   "id": "473bfcb3",
   "metadata": {},
   "source": [
    "num1 = int(input(\"enter 1st number \"))\n",
    "num2 = int(input(\"enter 2nd number \"))\n",
    "\n",
    "sum = num1+num2\n",
    "print(sum)"
   ]
  },
  {
   "cell_type": "code",
   "execution_count": 30,
   "id": "749c2331",
   "metadata": {},
   "outputs": [
    {
     "data": {
      "text/plain": [
       "10000000000000000000000000000000000000000000000000000000000000000000000000000000000000000000000000000"
      ]
     },
     "execution_count": 30,
     "metadata": {},
     "output_type": "execute_result"
    }
   ],
   "source": []
  },
  {
   "cell_type": "code",
   "execution_count": 31,
   "id": "fd315d9b",
   "metadata": {},
   "outputs": [
    {
     "data": {
      "text/plain": [
       "243"
      ]
     },
     "execution_count": 31,
     "metadata": {},
     "output_type": "execute_result"
    }
   ],
   "source": [
    "pow(3,5)"
   ]
  },
  {
   "cell_type": "code",
   "execution_count": 32,
   "id": "7d8aebc2",
   "metadata": {},
   "outputs": [
    {
     "data": {
      "text/plain": [
       "243"
      ]
     },
     "execution_count": 32,
     "metadata": {},
     "output_type": "execute_result"
    }
   ],
   "source": [
    "3**5"
   ]
  },
  {
   "cell_type": "code",
   "execution_count": 33,
   "id": "3fab8b6c",
   "metadata": {},
   "outputs": [
    {
     "data": {
      "text/plain": [
       "['s', 'a', 'i', 't', 'e', 'j', 'a']"
      ]
     },
     "execution_count": 33,
     "metadata": {},
     "output_type": "execute_result"
    }
   ],
   "source": [
    "list(\"saiteja\")"
   ]
  },
  {
   "cell_type": "code",
   "execution_count": 35,
   "id": "0c82deb1",
   "metadata": {},
   "outputs": [],
   "source": [
    "a = list(\"Independence\")"
   ]
  },
  {
   "cell_type": "code",
   "execution_count": 36,
   "id": "97a4513a",
   "metadata": {},
   "outputs": [
    {
     "data": {
      "text/plain": [
       "12"
      ]
     },
     "execution_count": 36,
     "metadata": {},
     "output_type": "execute_result"
    }
   ],
   "source": [
    "len(a)"
   ]
  },
  {
   "cell_type": "code",
   "execution_count": 37,
   "id": "cd91f826",
   "metadata": {},
   "outputs": [
    {
     "data": {
      "text/plain": [
       "['I', 'n', 'd', 'e', 'p', 'e', 'n', 'd', 'e', 'n', 'c', 'e']"
      ]
     },
     "execution_count": 37,
     "metadata": {},
     "output_type": "execute_result"
    }
   ],
   "source": [
    "list(a)"
   ]
  },
  {
   "cell_type": "code",
   "execution_count": 47,
   "id": "31f22fa1",
   "metadata": {},
   "outputs": [
    {
     "data": {
      "text/plain": [
       "list"
      ]
     },
     "execution_count": 47,
     "metadata": {},
     "output_type": "execute_result"
    }
   ],
   "source": [
    "type(a)"
   ]
  },
  {
   "cell_type": "code",
   "execution_count": 38,
   "id": "6746c5ad",
   "metadata": {},
   "outputs": [
    {
     "data": {
      "text/plain": [
       "['I', 'd', 'p', 'n', 'e', 'c']"
      ]
     },
     "execution_count": 38,
     "metadata": {},
     "output_type": "execute_result"
    }
   ],
   "source": [
    "a[::2]"
   ]
  },
  {
   "cell_type": "code",
   "execution_count": 39,
   "id": "2114746f",
   "metadata": {},
   "outputs": [
    {
     "data": {
      "text/plain": [
       "['d', 'p', 'n', 'e', 'c']"
      ]
     },
     "execution_count": 39,
     "metadata": {},
     "output_type": "execute_result"
    }
   ],
   "source": [
    "a[-10:-1:2]"
   ]
  },
  {
   "cell_type": "code",
   "execution_count": 40,
   "id": "37f06287",
   "metadata": {},
   "outputs": [
    {
     "data": {
      "text/plain": [
       "['e', 'c', 'n', 'e', 'd', 'n', 'e', 'p', 'e', 'd', 'n', 'I']"
      ]
     },
     "execution_count": 40,
     "metadata": {},
     "output_type": "execute_result"
    }
   ],
   "source": [
    "a[::-1]"
   ]
  },
  {
   "cell_type": "code",
   "execution_count": 41,
   "id": "6f15e1bf",
   "metadata": {},
   "outputs": [
    {
     "data": {
      "text/plain": [
       "list"
      ]
     },
     "execution_count": 41,
     "metadata": {},
     "output_type": "execute_result"
    }
   ],
   "source": [
    "type(a)"
   ]
  },
  {
   "cell_type": "code",
   "execution_count": 42,
   "id": "f17c0607",
   "metadata": {},
   "outputs": [],
   "source": [
    "b = list(a)"
   ]
  },
  {
   "cell_type": "code",
   "execution_count": 43,
   "id": "197f9cfa",
   "metadata": {},
   "outputs": [
    {
     "data": {
      "text/plain": [
       "['I', 'n', 'd', 'e', 'p', 'e', 'n', 'd', 'e', 'n', 'c', 'e']"
      ]
     },
     "execution_count": 43,
     "metadata": {},
     "output_type": "execute_result"
    }
   ],
   "source": [
    "b"
   ]
  },
  {
   "cell_type": "code",
   "execution_count": 45,
   "id": "37c1dbd0",
   "metadata": {},
   "outputs": [],
   "source": [
    "b[4] = 's'"
   ]
  },
  {
   "cell_type": "code",
   "execution_count": 46,
   "id": "7ecdb15e",
   "metadata": {},
   "outputs": [
    {
     "data": {
      "text/plain": [
       "['I', 'n', 'd', 'e', 's', 'e', 'n', 'd', 'e', 'n', 'c', 'e']"
      ]
     },
     "execution_count": 46,
     "metadata": {},
     "output_type": "execute_result"
    }
   ],
   "source": [
    "b"
   ]
  },
  {
   "cell_type": "code",
   "execution_count": 48,
   "id": "93af7226",
   "metadata": {},
   "outputs": [],
   "source": [
    "list_obj = []"
   ]
  },
  {
   "cell_type": "code",
   "execution_count": 49,
   "id": "cc676e2d",
   "metadata": {},
   "outputs": [
    {
     "data": {
      "text/plain": [
       "[]"
      ]
     },
     "execution_count": 49,
     "metadata": {},
     "output_type": "execute_result"
    }
   ],
   "source": [
    "list_obj"
   ]
  },
  {
   "cell_type": "code",
   "execution_count": 50,
   "id": "c732e983",
   "metadata": {},
   "outputs": [],
   "source": [
    "list_object = [\"Sangeetha\",23,65,45,'m','mani','mani']"
   ]
  },
  {
   "cell_type": "code",
   "execution_count": 51,
   "id": "20040b3c",
   "metadata": {},
   "outputs": [
    {
     "data": {
      "text/plain": [
       "['Sangeetha', 23, 65, 45, 'm', 'mani', 'mani']"
      ]
     },
     "execution_count": 51,
     "metadata": {},
     "output_type": "execute_result"
    }
   ],
   "source": [
    "list_object"
   ]
  },
  {
   "cell_type": "code",
   "execution_count": 52,
   "id": "3f8deeae",
   "metadata": {},
   "outputs": [],
   "source": [
    "list_object.append(\"Rakshasi\")"
   ]
  },
  {
   "cell_type": "code",
   "execution_count": 53,
   "id": "f9e10f43",
   "metadata": {},
   "outputs": [
    {
     "data": {
      "text/plain": [
       "['Sangeetha', 23, 65, 45, 'm', 'mani', 'mani', 'Rakshasi']"
      ]
     },
     "execution_count": 53,
     "metadata": {},
     "output_type": "execute_result"
    }
   ],
   "source": [
    "list_object"
   ]
  },
  {
   "cell_type": "code",
   "execution_count": 57,
   "id": "12f1d891",
   "metadata": {},
   "outputs": [],
   "source": [
    "list_object.insert(34,0)"
   ]
  },
  {
   "cell_type": "code",
   "execution_count": 56,
   "id": "0b17b895",
   "metadata": {},
   "outputs": [
    {
     "data": {
      "text/plain": [
       "['Sangeetha', 23, 65, 45, 'm', 'mani', 'mani', 'Rakshasi', 3]"
      ]
     },
     "execution_count": 56,
     "metadata": {},
     "output_type": "execute_result"
    }
   ],
   "source": [
    "list_object"
   ]
  },
  {
   "cell_type": "code",
   "execution_count": 58,
   "id": "cb3ba385",
   "metadata": {},
   "outputs": [
    {
     "data": {
      "text/plain": [
       "['Sangeetha', 23, 65, 45, 'm', 'mani', 'mani', 'Rakshasi', 3, 0]"
      ]
     },
     "execution_count": 58,
     "metadata": {},
     "output_type": "execute_result"
    }
   ],
   "source": [
    "list_object"
   ]
  },
  {
   "cell_type": "code",
   "execution_count": 59,
   "id": "c4f115de",
   "metadata": {},
   "outputs": [],
   "source": [
    "list_set = ['tej','milky','maggie',34,53,8,74.53,'Bharath']"
   ]
  },
  {
   "cell_type": "code",
   "execution_count": 60,
   "id": "24a0101d",
   "metadata": {},
   "outputs": [
    {
     "data": {
      "text/plain": [
       "list"
      ]
     },
     "execution_count": 60,
     "metadata": {},
     "output_type": "execute_result"
    }
   ],
   "source": [
    "type(list_set)"
   ]
  },
  {
   "cell_type": "code",
   "execution_count": 61,
   "id": "9b2fa5e9",
   "metadata": {},
   "outputs": [
    {
     "data": {
      "text/plain": [
       "['tej', 'milky', 'maggie', 34, 53, 8, 74.53, 'Bharath']"
      ]
     },
     "execution_count": 61,
     "metadata": {},
     "output_type": "execute_result"
    }
   ],
   "source": [
    "list_set"
   ]
  },
  {
   "cell_type": "code",
   "execution_count": 76,
   "id": "1169914a",
   "metadata": {},
   "outputs": [],
   "source": [
    "list_set.insert(7,\"messi\")"
   ]
  },
  {
   "cell_type": "code",
   "execution_count": 77,
   "id": "bcea5890",
   "metadata": {},
   "outputs": [
    {
     "data": {
      "text/plain": [
       "['tej', 'milky', 'maggie', 34, 53, 8, 74.53, 'messi', 'Bharath', 3]"
      ]
     },
     "execution_count": 77,
     "metadata": {},
     "output_type": "execute_result"
    }
   ],
   "source": [
    "list_set"
   ]
  },
  {
   "cell_type": "code",
   "execution_count": 68,
   "id": "0e7903fe",
   "metadata": {},
   "outputs": [],
   "source": [
    "str_object = ['manju','akki','raj',45,67,89,100,'tej']"
   ]
  },
  {
   "cell_type": "code",
   "execution_count": 69,
   "id": "cebbde42",
   "metadata": {},
   "outputs": [
    {
     "data": {
      "text/plain": [
       "list"
      ]
     },
     "execution_count": 69,
     "metadata": {},
     "output_type": "execute_result"
    }
   ],
   "source": [
    "type(str_object)"
   ]
  },
  {
   "cell_type": "code",
   "execution_count": 70,
   "id": "616bcde0",
   "metadata": {},
   "outputs": [
    {
     "data": {
      "text/plain": [
       "['manju', 'akki', 'raj', 45, 67, 89, 100, 'tej']"
      ]
     },
     "execution_count": 70,
     "metadata": {},
     "output_type": "execute_result"
    }
   ],
   "source": [
    "str_object"
   ]
  },
  {
   "cell_type": "code",
   "execution_count": 74,
   "id": "32658f16",
   "metadata": {},
   "outputs": [],
   "source": [
    "str_object.insert(2,45)"
   ]
  },
  {
   "cell_type": "code",
   "execution_count": 75,
   "id": "8f6becbb",
   "metadata": {},
   "outputs": [
    {
     "data": {
      "text/plain": [
       "['manju', 'akki', 45, 'raj', 45, 67, 89, 100, 'tej', 2]"
      ]
     },
     "execution_count": 75,
     "metadata": {},
     "output_type": "execute_result"
    }
   ],
   "source": [
    "str_object"
   ]
  },
  {
   "cell_type": "code",
   "execution_count": 84,
   "id": "6c001fd7",
   "metadata": {},
   "outputs": [],
   "source": [
    "list_num = [2,3,4,5,6,7,8,9,11,12,13,14,16]"
   ]
  },
  {
   "cell_type": "code",
   "execution_count": 97,
   "id": "1141f38b",
   "metadata": {},
   "outputs": [
    {
     "data": {
      "text/plain": [
       "[2, 3, 4, 5, 6, 7, 8, 9, 11, 12, 13, 14, 16]"
      ]
     },
     "execution_count": 97,
     "metadata": {},
     "output_type": "execute_result"
    }
   ],
   "source": [
    "list_num"
   ]
  },
  {
   "cell_type": "code",
   "execution_count": 102,
   "id": "2c79ab47",
   "metadata": {},
   "outputs": [
    {
     "data": {
      "text/plain": [
       "list"
      ]
     },
     "execution_count": 102,
     "metadata": {},
     "output_type": "execute_result"
    }
   ],
   "source": [
    "type(list_num)"
   ]
  },
  {
   "cell_type": "code",
   "execution_count": 98,
   "id": "9644584b",
   "metadata": {},
   "outputs": [],
   "source": [
    "a = []\n",
    "b = []"
   ]
  },
  {
   "cell_type": "code",
   "execution_count": 99,
   "id": "add7c061",
   "metadata": {},
   "outputs": [
    {
     "data": {
      "text/plain": [
       "([], [])"
      ]
     },
     "execution_count": 99,
     "metadata": {},
     "output_type": "execute_result"
    }
   ],
   "source": [
    "a,b"
   ]
  },
  {
   "cell_type": "code",
   "execution_count": 100,
   "id": "37afc72e",
   "metadata": {},
   "outputs": [],
   "source": [
    "for i in range(len(list_num)):\n",
    "    if i % 2 == 0 :\n",
    "        a.append(i)\n",
    "    else:\n",
    "        b.append(i)"
   ]
  },
  {
   "cell_type": "code",
   "execution_count": 101,
   "id": "785331c2",
   "metadata": {},
   "outputs": [
    {
     "data": {
      "text/plain": [
       "([0, 2, 4, 6, 8, 10, 12], [1, 3, 5, 7, 9, 11])"
      ]
     },
     "execution_count": 101,
     "metadata": {},
     "output_type": "execute_result"
    }
   ],
   "source": [
    "a,b"
   ]
  },
  {
   "cell_type": "code",
   "execution_count": 103,
   "id": "520e1e90",
   "metadata": {},
   "outputs": [],
   "source": [
    "c = []\n",
    "d = []"
   ]
  },
  {
   "cell_type": "code",
   "execution_count": 104,
   "id": "cf4303f9",
   "metadata": {},
   "outputs": [],
   "source": [
    "for i in list_num:\n",
    "    if (i % 2 == 0):\n",
    "        c.append(i)\n",
    "    else:\n",
    "        d.append(i)"
   ]
  },
  {
   "cell_type": "code",
   "execution_count": 105,
   "id": "2fdf3709",
   "metadata": {},
   "outputs": [
    {
     "data": {
      "text/plain": [
       "[2, 4, 6, 8, 12, 14, 16]"
      ]
     },
     "execution_count": 105,
     "metadata": {},
     "output_type": "execute_result"
    }
   ],
   "source": [
    "c"
   ]
  },
  {
   "cell_type": "code",
   "execution_count": 106,
   "id": "a9c8946d",
   "metadata": {},
   "outputs": [
    {
     "data": {
      "text/plain": [
       "[3, 5, 7, 9, 11, 13]"
      ]
     },
     "execution_count": 106,
     "metadata": {},
     "output_type": "execute_result"
    }
   ],
   "source": [
    "d"
   ]
  },
  {
   "cell_type": "code",
   "execution_count": 107,
   "id": "60c9a95b",
   "metadata": {},
   "outputs": [
    {
     "data": {
      "text/plain": [
       "['manju', 'akki', 45, 'raj', 45, 67, 89, 100, 'tej', 2]"
      ]
     },
     "execution_count": 107,
     "metadata": {},
     "output_type": "execute_result"
    }
   ],
   "source": [
    "str_object"
   ]
  },
  {
   "cell_type": "code",
   "execution_count": 108,
   "id": "8702f98a",
   "metadata": {},
   "outputs": [
    {
     "data": {
      "text/plain": [
       "True"
      ]
     },
     "execution_count": 108,
     "metadata": {},
     "output_type": "execute_result"
    }
   ],
   "source": [
    "'raj' in str_object"
   ]
  },
  {
   "cell_type": "code",
   "execution_count": 109,
   "id": "1d0df799",
   "metadata": {},
   "outputs": [],
   "source": [
    "str_obj = \"adisdfuiwehflnwehdyugfuiwencejneuichwey\""
   ]
  },
  {
   "cell_type": "code",
   "execution_count": 111,
   "id": "10e21074",
   "metadata": {},
   "outputs": [
    {
     "data": {
      "text/plain": [
       "6"
      ]
     },
     "execution_count": 111,
     "metadata": {},
     "output_type": "execute_result"
    }
   ],
   "source": [
    "str_obj.find('u')"
   ]
  },
  {
   "cell_type": "code",
   "execution_count": 112,
   "id": "18cce649",
   "metadata": {},
   "outputs": [
    {
     "data": {
      "text/plain": [
       "-1"
      ]
     },
     "execution_count": 112,
     "metadata": {},
     "output_type": "execute_result"
    }
   ],
   "source": [
    "str_obj.find('56')"
   ]
  },
  {
   "cell_type": "code",
   "execution_count": 114,
   "id": "f3d7872e",
   "metadata": {},
   "outputs": [
    {
     "data": {
      "text/plain": [
       "['adisdfuiwehflnwehdyugfuiwence', 'neuichwey']"
      ]
     },
     "execution_count": 114,
     "metadata": {},
     "output_type": "execute_result"
    }
   ],
   "source": [
    "str_obj.split('j')"
   ]
  },
  {
   "cell_type": "code",
   "execution_count": 115,
   "id": "35fc1108",
   "metadata": {},
   "outputs": [
    {
     "data": {
      "text/plain": [
       "['', 'disdfuiwehflnwehdyugfuiwencejneuichwey']"
      ]
     },
     "execution_count": 115,
     "metadata": {},
     "output_type": "execute_result"
    }
   ],
   "source": [
    "str_obj.split('a')"
   ]
  },
  {
   "cell_type": "code",
   "execution_count": 118,
   "id": "12c6b036",
   "metadata": {},
   "outputs": [
    {
     "data": {
      "text/plain": [
       "('adisdfui', 'w', 'ehflnwehdyugfuiwencejneuichwey')"
      ]
     },
     "execution_count": 118,
     "metadata": {},
     "output_type": "execute_result"
    }
   ],
   "source": [
    "str_obj.partition('w')"
   ]
  },
  {
   "cell_type": "code",
   "execution_count": 119,
   "id": "220a9dc3",
   "metadata": {},
   "outputs": [
    {
     "data": {
      "text/plain": [
       "'f'"
      ]
     },
     "execution_count": 119,
     "metadata": {},
     "output_type": "execute_result"
    }
   ],
   "source": [
    "str_obj[5]"
   ]
  },
  {
   "cell_type": "code",
   "execution_count": 120,
   "id": "51b77ce9",
   "metadata": {},
   "outputs": [],
   "source": [
    "text = 'INDIA IS MY COUNTRY'"
   ]
  },
  {
   "cell_type": "code",
   "execution_count": 123,
   "id": "a721bf18",
   "metadata": {},
   "outputs": [
    {
     "data": {
      "text/plain": [
       "'*****INDIA IS MY COUNTRY******'"
      ]
     },
     "execution_count": 123,
     "metadata": {},
     "output_type": "execute_result"
    }
   ],
   "source": [
    "text.center(30,'*')"
   ]
  },
  {
   "cell_type": "code",
   "execution_count": 124,
   "id": "12afe61a",
   "metadata": {},
   "outputs": [
    {
     "data": {
      "text/plain": [
       "'Y'"
      ]
     },
     "execution_count": 124,
     "metadata": {},
     "output_type": "execute_result"
    }
   ],
   "source": [
    "text[-1]"
   ]
  },
  {
   "cell_type": "code",
   "execution_count": 125,
   "id": "1d91f504",
   "metadata": {},
   "outputs": [
    {
     "data": {
      "text/plain": [
       "'YRTNUOC YM SI AIDNI'"
      ]
     },
     "execution_count": 125,
     "metadata": {},
     "output_type": "execute_result"
    }
   ],
   "source": [
    "text[::-1]"
   ]
  },
  {
   "cell_type": "code",
   "execution_count": 126,
   "id": "fc236585",
   "metadata": {},
   "outputs": [],
   "source": [
    "s = [1,3,4,5,5]"
   ]
  },
  {
   "cell_type": "code",
   "execution_count": 127,
   "id": "6c5a8b31",
   "metadata": {},
   "outputs": [],
   "source": [
    "s.append([3,4,5,6,7])"
   ]
  },
  {
   "cell_type": "code",
   "execution_count": 128,
   "id": "33775fd9",
   "metadata": {},
   "outputs": [
    {
     "data": {
      "text/plain": [
       "[1, 3, 4, 5, 5, [3, 4, 5, 6, 7]]"
      ]
     },
     "execution_count": 128,
     "metadata": {},
     "output_type": "execute_result"
    }
   ],
   "source": [
    "s"
   ]
  },
  {
   "cell_type": "code",
   "execution_count": 129,
   "id": "f93b350d",
   "metadata": {},
   "outputs": [],
   "source": [
    "s.append(['kumar',53,'hello'])"
   ]
  },
  {
   "cell_type": "code",
   "execution_count": 130,
   "id": "ae890dc7",
   "metadata": {},
   "outputs": [
    {
     "data": {
      "text/plain": [
       "[1, 3, 4, 5, 5, [3, 4, 5, 6, 7], ['kumar', 53, 'hello']]"
      ]
     },
     "execution_count": 130,
     "metadata": {},
     "output_type": "execute_result"
    }
   ],
   "source": [
    "s"
   ]
  },
  {
   "cell_type": "code",
   "execution_count": 131,
   "id": "c561fc0e",
   "metadata": {},
   "outputs": [],
   "source": [
    "s.extend([6,7,8,9,'ramya'])"
   ]
  },
  {
   "cell_type": "code",
   "execution_count": 132,
   "id": "7d68ca28",
   "metadata": {},
   "outputs": [
    {
     "data": {
      "text/plain": [
       "[1, 3, 4, 5, 5, [3, 4, 5, 6, 7], ['kumar', 53, 'hello'], 6, 7, 8, 9, 'ramya']"
      ]
     },
     "execution_count": 132,
     "metadata": {},
     "output_type": "execute_result"
    }
   ],
   "source": [
    "s"
   ]
  },
  {
   "cell_type": "code",
   "execution_count": 133,
   "id": "2ae367b9",
   "metadata": {},
   "outputs": [
    {
     "name": "stdout",
     "output_type": "stream",
     "text": [
      "please input your name tej\n"
     ]
    }
   ],
   "source": [
    "var = input('please input your name ')"
   ]
  },
  {
   "cell_type": "markdown",
   "id": "ed343fb5",
   "metadata": {},
   "source": []
  },
  {
   "cell_type": "code",
   "execution_count": 137,
   "id": "991305cd",
   "metadata": {},
   "outputs": [
    {
     "data": {
      "text/plain": [
       "'My name is tej'"
      ]
     },
     "execution_count": 137,
     "metadata": {},
     "output_type": "execute_result"
    }
   ],
   "source": [
    "\"My name is {}\".format(var)"
   ]
  },
  {
   "cell_type": "code",
   "execution_count": 138,
   "id": "6b01ca36",
   "metadata": {},
   "outputs": [
    {
     "ename": "TypeError",
     "evalue": "'list' object is not callable",
     "output_type": "error",
     "traceback": [
      "\u001b[1;31m---------------------------------------------------------------------------\u001b[0m",
      "\u001b[1;31mTypeError\u001b[0m                                 Traceback (most recent call last)",
      "\u001b[1;32m~\\AppData\\Local\\Temp\\ipykernel_28952\\714517811.py\u001b[0m in \u001b[0;36m<module>\u001b[1;34m\u001b[0m\n\u001b[1;32m----> 1\u001b[1;33m \u001b[0mlist\u001b[0m\u001b[1;33m(\u001b[0m\u001b[1;36m34\u001b[0m\u001b[1;33m)\u001b[0m\u001b[1;33m\u001b[0m\u001b[1;33m\u001b[0m\u001b[0m\n\u001b[0m",
      "\u001b[1;31mTypeError\u001b[0m: 'list' object is not callable"
     ]
    }
   ],
   "source": [
    "list(34)"
   ]
  },
  {
   "cell_type": "code",
   "execution_count": 139,
   "id": "089b1e69",
   "metadata": {},
   "outputs": [],
   "source": [
    "a = [1,2,3,4,5,6]\n",
    "b = [\"anad\",\"harsha\",\"sowmy\",\"anu\"]\n",
    "c = [23.45,56.78,67,54]\n",
    "\n",
    "d = [a,b,c]"
   ]
  },
  {
   "cell_type": "code",
   "execution_count": 140,
   "id": "85f81067",
   "metadata": {},
   "outputs": [
    {
     "data": {
      "text/plain": [
       "[[1, 2, 3, 4, 5, 6],\n",
       " ['anad', 'harsha', 'sowmy', 'anu'],\n",
       " [23.45, 56.78, 67, 54]]"
      ]
     },
     "execution_count": 140,
     "metadata": {},
     "output_type": "execute_result"
    }
   ],
   "source": [
    "d"
   ]
  },
  {
   "cell_type": "code",
   "execution_count": 142,
   "id": "0778eeaf",
   "metadata": {},
   "outputs": [
    {
     "data": {
      "text/plain": [
       "'sowmy'"
      ]
     },
     "execution_count": 142,
     "metadata": {},
     "output_type": "execute_result"
    }
   ],
   "source": [
    "d[1][2]"
   ]
  },
  {
   "cell_type": "code",
   "execution_count": 143,
   "id": "98776c2c",
   "metadata": {},
   "outputs": [
    {
     "data": {
      "text/plain": [
       "67"
      ]
     },
     "execution_count": 143,
     "metadata": {},
     "output_type": "execute_result"
    }
   ],
   "source": [
    "d[2][2]"
   ]
  },
  {
   "cell_type": "code",
   "execution_count": 144,
   "id": "7e01a4bb",
   "metadata": {},
   "outputs": [
    {
     "data": {
      "text/plain": [
       "5"
      ]
     },
     "execution_count": 144,
     "metadata": {},
     "output_type": "execute_result"
    }
   ],
   "source": [
    "d[0][4]"
   ]
  },
  {
   "cell_type": "code",
   "execution_count": 145,
   "id": "32f89a47",
   "metadata": {},
   "outputs": [],
   "source": [
    "list_num = [24,45,67,32,67,90]"
   ]
  },
  {
   "cell_type": "code",
   "execution_count": 147,
   "id": "1bb15f29",
   "metadata": {},
   "outputs": [
    {
     "data": {
      "text/plain": [
       "[48, 90, 134, 64, 134, 180]"
      ]
     },
     "execution_count": 147,
     "metadata": {},
     "output_type": "execute_result"
    }
   ],
   "source": [
    "[i * 2 for i in list_num]"
   ]
  },
  {
   "cell_type": "code",
   "execution_count": null,
   "id": "6dbc6552",
   "metadata": {},
   "outputs": [],
   "source": []
  }
 ],
 "metadata": {
  "kernelspec": {
   "display_name": "Python 3 (ipykernel)",
   "language": "python",
   "name": "python3"
  },
  "language_info": {
   "codemirror_mode": {
    "name": "ipython",
    "version": 3
   },
   "file_extension": ".py",
   "mimetype": "text/x-python",
   "name": "python",
   "nbconvert_exporter": "python",
   "pygments_lexer": "ipython3",
   "version": "3.9.13"
  }
 },
 "nbformat": 4,
 "nbformat_minor": 5
}
